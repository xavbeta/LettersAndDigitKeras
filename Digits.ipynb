{
  "nbformat": 4,
  "nbformat_minor": 0,
  "metadata": {
    "colab": {
      "name": "Untitled1.ipynb",
      "provenance": [],
      "toc_visible": true,
      "include_colab_link": true
    },
    "kernelspec": {
      "name": "python3",
      "display_name": "Python 3"
    }
  },
  "cells": [
    {
      "cell_type": "markdown",
      "metadata": {
        "id": "view-in-github",
        "colab_type": "text"
      },
      "source": [
        "<a href=\"https://colab.research.google.com/github/xavbeta/LettersAndDigitKeras/blob/master/Digits.ipynb\" target=\"_parent\"><img src=\"https://colab.research.google.com/assets/colab-badge.svg\" alt=\"Open In Colab\"/></a>"
      ]
    },
    {
      "cell_type": "code",
      "metadata": {
        "id": "PVvGy7Yk0ZAi",
        "colab_type": "code",
        "outputId": "ff85ce3f-b5c6-41c3-aab3-e49a3df18348",
        "colab": {
          "base_uri": "https://localhost:8080/",
          "height": 299
        }
      },
      "source": [
        "import tensorflow as tf\n",
        "import sys\n",
        "import numpy\n",
        "numpy.set_printoptions(threshold=sys.maxsize)\n",
        "\n",
        "# Load the MNIST dataset\n",
        "mnist = tf.keras.datasets.mnist\n",
        "(x_train, y_train),(x_test, y_test) = mnist.load_data()\n",
        "\n",
        "# Normalize the training values\n",
        "x_train, x_test = x_train / 255.0, x_test / 255.0\n",
        "\n",
        "print(x_train[0].shape)\n",
        "\n",
        "\n",
        "print(y_train[0])\n",
        "\n",
        "from matplotlib import pyplot as plt\n",
        "plt.imshow(x_train[0],cmap='gray')\n",
        "plt.show()\n",
        "\n"
      ],
      "execution_count": 0,
      "outputs": [
        {
          "output_type": "stream",
          "text": [
            "(28, 28)\n",
            "5\n"
          ],
          "name": "stdout"
        },
        {
          "output_type": "display_data",
          "data": {
            "image/png": "[encoded data removed]",
            "text/plain": [
              "<Figure size 432x288 with 1 Axes>"
            ]
          },
          "metadata": {
            "tags": []
          }
        }
      ]
    },
    {
      "cell_type": "code",
      "metadata": {
        "id": "CZNjjRF6fWQK",
        "colab_type": "code",
        "outputId": "4ebc70bc-682c-4622-a9f8-0c02263884bc",
        "colab": {
          "base_uri": "https://localhost:8080/",
          "height": 680
        }
      },
      "source": [
        "\n",
        "\n",
        "# A callback to stop our tranning\n",
        "# when reaching enough accuracy\n",
        "class myCallback(tf.keras.callbacks.Callback):\n",
        "  def on_epoch_end(self, epoch, logs={}):\n",
        "    # If you are using Tensorflow 1.x, replace 'accuracy' for 'acc' in the next line\n",
        "    if(logs.get('acc')>0.99):\n",
        "      print(\"\\nReached 99.0% accuracy so cancelling training!\")\n",
        "      self.model.stop_training = True\n",
        "\n",
        "# Create a basic model\n",
        "model = tf.keras.models.Sequential([\n",
        "  tf.keras.layers.Flatten(input_shape=(28, 28)),\n",
        "  tf.keras.layers.Dense(128, activation='relu'),\n",
        "  tf.keras.layers.Dropout(0.2),\n",
        "  tf.keras.layers.Dense(10, activation='softmax')\n",
        "])\n",
        "\n",
        "# Compile the model\n",
        "model.compile(optimizer='adam',\n",
        "              loss='sparse_categorical_crossentropy',\n",
        "              metrics=['accuracy'])\n",
        "\n",
        "# Train the model\n",
        "model.fit(x_train, \n",
        "          y_train, \n",
        "          epochs=25,\n",
        "          callbacks=[myCallback()])\n",
        "\n",
        "# Evaluate the model\n",
        "model.evaluate(x_test, y_test)\n",
        "\n",
        "\n"
      ],
      "execution_count": 0,
      "outputs": [
        {
          "output_type": "stream",
          "text": [
            "Train on 60000 samples\n",
            "Epoch 1/25\n",
            "60000/60000 [==============================] - 6s 99us/sample - loss: 0.3004 - acc: 0.9124\n",
            "Epoch 2/25\n",
            "60000/60000 [==============================] - 6s 103us/sample - loss: 0.1434 - acc: 0.9576\n",
            "Epoch 3/25\n",
            "60000/60000 [==============================] - 6s 102us/sample - loss: 0.1063 - acc: 0.9672\n",
            "Epoch 4/25\n",
            "60000/60000 [==============================] - 6s 102us/sample - loss: 0.0889 - acc: 0.9729\n",
            "Epoch 5/25\n",
            "60000/60000 [==============================] - 6s 99us/sample - loss: 0.0749 - acc: 0.9761\n",
            "Epoch 6/25\n",
            "60000/60000 [==============================] - 7s 108us/sample - loss: 0.0657 - acc: 0.9793\n",
            "Epoch 7/25\n",
            "60000/60000 [==============================] - 6s 105us/sample - loss: 0.0575 - acc: 0.9805\n",
            "Epoch 8/25\n",
            "60000/60000 [==============================] - 6s 102us/sample - loss: 0.0531 - acc: 0.9828\n",
            "Epoch 9/25\n",
            "60000/60000 [==============================] - 6s 104us/sample - loss: 0.0479 - acc: 0.9842\n",
            "Epoch 10/25\n",
            "60000/60000 [==============================] - 6s 97us/sample - loss: 0.0448 - acc: 0.9842\n",
            "Epoch 11/25\n",
            "60000/60000 [==============================] - 6s 97us/sample - loss: 0.0416 - acc: 0.9856\n",
            "Epoch 12/25\n",
            "60000/60000 [==============================] - 6s 108us/sample - loss: 0.0388 - acc: 0.9872\n",
            "Epoch 13/25\n",
            "60000/60000 [==============================] - 6s 97us/sample - loss: 0.0381 - acc: 0.9876\n",
            "Epoch 14/25\n",
            "60000/60000 [==============================] - 6s 93us/sample - loss: 0.0344 - acc: 0.9884\n",
            "Epoch 15/25\n",
            "60000/60000 [==============================] - 5s 90us/sample - loss: 0.0321 - acc: 0.9890\n",
            "Epoch 16/25\n",
            "60000/60000 [==============================] - 5s 90us/sample - loss: 0.0295 - acc: 0.9898\n",
            "Epoch 17/25\n",
            "59488/60000 [============================>.] - ETA: 0s - loss: 0.0296 - acc: 0.9900\n",
            "Reached 99.0% accuracy so cancelling training!\n",
            "60000/60000 [==============================] - 6s 98us/sample - loss: 0.0295 - acc: 0.9901\n",
            "10000/10000 [==============================] - 0s 46us/sample - loss: 0.0806 - acc: 0.9792\n"
          ],
          "name": "stdout"
        },
        {
          "output_type": "execute_result",
          "data": {
            "text/plain": [
              "[0.08057804638598028, 0.9792]"
            ]
          },
          "metadata": {
            "tags": []
          },
          "execution_count": 15
        }
      ]
    },
    {
      "cell_type": "code",
      "metadata": {
        "id": "ogoKoKCJvU--",
        "colab_type": "code",
        "outputId": "fe4492c9-61fa-4072-b251-8a0c0822c51b",
        "colab": {
          "base_uri": "https://localhost:8080/",
          "height": 316
        }
      },
      "source": [
        "FILE = 'nove.png'\n",
        "\n",
        "from PIL import Image\n",
        "import numpy as np\n",
        "import cv2\n",
        "\n",
        "img_path = FILE\n",
        "img = cv2.imread(img_path) # read image\n",
        "img = cv2.cvtColor(img, cv2.COLOR_BGR2GRAY)\n",
        "img= cv2.bitwise_not(img)\n",
        "plt.imshow(img,cmap='gray')\n",
        "plt.show()\n",
        "\n",
        "new_img = img / 255.0  # now all values are ranging from 0 to 1, where white equlas 0.0 and black equals 1.0 \n",
        "new_img = np.expand_dims(new_img, axis=0)\n",
        "\n",
        "new_img.shape\n",
        "\n",
        "\n",
        "predictions = model.predict(new_img)\n",
        "print(predictions)\n",
        "print(np.argmax(predictions[0]))"
      ],
      "execution_count": 0,
      "outputs": [
        {
          "output_type": "display_data",
          "data": {
            "image/png": "[encoded data removed]",
            "text/plain": [
              "<Figure size 432x288 with 1 Axes>"
            ]
          },
          "metadata": {
            "tags": []
          }
        },
        {
          "output_type": "stream",
          "text": [
            "[[3.2302266e-14 3.1164128e-14 3.7086867e-08 9.9246162e-01 4.6458600e-33\n",
            "  7.5382525e-03 7.1056282e-12 2.1613375e-14 7.0445118e-08 6.7718479e-16]]\n",
            "3\n"
          ],
          "name": "stdout"
        }
      ]
    }
  ]
}